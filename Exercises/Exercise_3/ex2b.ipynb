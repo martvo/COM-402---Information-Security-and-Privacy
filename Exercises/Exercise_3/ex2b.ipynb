{
 "cells": [
  {
   "cell_type": "code",
   "execution_count": 1,
   "metadata": {},
   "outputs": [],
   "source": [
    "from hashlib import sha256\n",
    "import string\n",
    "import re"
   ]
  },
  {
   "cell_type": "code",
   "execution_count": 2,
   "metadata": {},
   "outputs": [],
   "source": [
    "hashed_passwords = []\n",
    "f = open(\"./passwords/hw3_ex2.txt\", \"r\")\n",
    "f.readline()\n",
    "for i in range(11):\n",
    "    f.readline()\n",
    "for i in range(10):\n",
    "    hashed_passwords.append(f.readline().strip())\n",
    "    \n",
    "characters = string.ascii_lowercase + string.digits\n",
    "\n",
    "# Read the rockyou wordlist\n",
    "password_list = re.findall('\\w+', open('./passwords/rockyou.txt', encoding='latin-1').read())"
   ]
  },
  {
   "cell_type": "code",
   "execution_count": 4,
   "metadata": {},
   "outputs": [],
   "source": [
    "result = []\n",
    "\n",
    "# Try every possible permutations\n",
    "def crack(pwd):\n",
    "    # Add permutations\n",
    "    pwd_to_try = [pwd]\n",
    "    pwd_to_try.append(pwd.title())\n",
    "    pwd_to_try.append(pwd.replace(\"e\", str(3)))\n",
    "    pwd_to_try.append(pwd.replace(\"o\", str(0)))\n",
    "    pwd_to_try.append(pwd.replace(\"i\", str(1)))\n",
    "    pwd_to_try.append(pwd.title().replace(\"e\", str(3)))\n",
    "    pwd_to_try.append(pwd.title().replace(\"o\", str(0)))\n",
    "    pwd_to_try.append(pwd.title().replace(\"i\", str(1)))\n",
    "    pwd_to_try.append(pwd.title().replace(\"e\", str(3)).replace(\"o\", str(0)))\n",
    "    pwd_to_try.append(pwd.title().replace(\"e\", str(3)).replace(\"i\", str(1)))\n",
    "    pwd_to_try.append(pwd.title().replace(\"i\", str(1)).replace(\"o\", str(0)))\n",
    "    pwd_to_try.append(pwd.title().replace(\"e\", str(3)).replace(\"o\", str(0)).replace(\"i\", str(1)))\n",
    "    pwd_to_try.append(pwd.replace(\"e\", str(3)).replace(\"o\", str(0)))\n",
    "    pwd_to_try.append(pwd.replace(\"e\", str(3)).replace(\"i\", str(1)))\n",
    "    pwd_to_try.append(pwd.replace(\"i\", str(1)).replace(\"o\", str(0)))\n",
    "    pwd_to_try.append(pwd.replace(\"e\", str(3)).replace(\"o\", str(0)).replace(\"i\", str(1)))\n",
    "    pwd_to_try.append(pwd.replace(\"e\", str(3)).title())\n",
    "    pwd_to_try.append(pwd.replace(\"o\", str(0)).title())\n",
    "    pwd_to_try.append(pwd.replace(\"i\", str(1)).title())\n",
    "    pwd_to_try.append(pwd.replace(\"e\", str(3)).replace(\"o\", str(0)).title())\n",
    "    pwd_to_try.append(pwd.replace(\"e\", str(3)).replace(\"i\", str(1)).title())\n",
    "    pwd_to_try.append(pwd.replace(\"i\", str(1)).replace(\"o\", str(0)).title())\n",
    "    pwd_to_try.append(pwd.replace(\"e\", str(3)).replace(\"o\", str(0)).replace(\"i\", str(1)).title())\n",
    "    \n",
    "    # Test the added permutations\n",
    "    for p in pwd_to_try:\n",
    "        hashed = sha256(p.encode()).hexdigest()\n",
    "        if hashed in hashed_passwords:\n",
    "            result.append(p)\n",
    "            hashed_passwords.remove(hashed)\n",
    "            print(result)\n",
    "                "
   ]
  },
  {
   "cell_type": "code",
   "execution_count": 5,
   "metadata": {},
   "outputs": [
    {
     "name": "stdout",
     "output_type": "stream",
     "text": [
      "['F0rgetmen0ts']\n",
      "['F0rgetmen0ts', 'Wff5804']\n",
      "['F0rgetmen0ts', 'Wff5804', 'trixsta7']\n",
      "['F0rgetmen0ts', 'Wff5804', 'trixsta7', 'rademon']\n",
      "['F0rgetmen0ts', 'Wff5804', 'trixsta7', 'rademon', 'L3xpl3']\n",
      "['F0rgetmen0ts', 'Wff5804', 'trixsta7', 'rademon', 'L3xpl3', 'jh0m1tz']\n",
      "['F0rgetmen0ts', 'Wff5804', 'trixsta7', 'rademon', 'L3xpl3', 'jh0m1tz', 'ilubniggaz']\n",
      "['F0rgetmen0ts', 'Wff5804', 'trixsta7', 'rademon', 'L3xpl3', 'jh0m1tz', 'ilubniggaz', 'H3av3n1su']\n",
      "['F0rgetmen0ts', 'Wff5804', 'trixsta7', 'rademon', 'L3xpl3', 'jh0m1tz', 'ilubniggaz', 'H3av3n1su', 'aleycayesteban']\n",
      "['F0rgetmen0ts', 'Wff5804', 'trixsta7', 'rademon', 'L3xpl3', 'jh0m1tz', 'ilubniggaz', 'H3av3n1su', 'aleycayesteban', 'abl3scarf']\n",
      "['F0rgetmen0ts', 'Wff5804', 'trixsta7', 'rademon', 'L3xpl3', 'jh0m1tz', 'ilubniggaz', 'H3av3n1su', 'aleycayesteban', 'abl3scarf']\n"
     ]
    }
   ],
   "source": [
    "for pwd in password_list:\n",
    "    crack(pwd)\n",
    "    if not hashed_passwords:\n",
    "        break\n",
    "        \n",
    "print(result)"
   ]
  },
  {
   "cell_type": "code",
   "execution_count": 6,
   "metadata": {},
   "outputs": [],
   "source": [
    "f = open(\"ex2b.txt\", \"a\")\n",
    "f.write(\",\".join(result))\n",
    "f.close()"
   ]
  },
  {
   "cell_type": "code",
   "execution_count": null,
   "metadata": {},
   "outputs": [],
   "source": []
  }
 ],
 "metadata": {
  "kernelspec": {
   "display_name": "Python 3",
   "language": "python",
   "name": "python3"
  },
  "language_info": {
   "codemirror_mode": {
    "name": "ipython",
    "version": 3
   },
   "file_extension": ".py",
   "mimetype": "text/x-python",
   "name": "python",
   "nbconvert_exporter": "python",
   "pygments_lexer": "ipython3",
   "version": "3.6.7"
  }
 },
 "nbformat": 4,
 "nbformat_minor": 2
}
