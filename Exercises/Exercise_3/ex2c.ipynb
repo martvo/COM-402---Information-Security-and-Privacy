{
 "cells": [
  {
   "cell_type": "code",
   "execution_count": 30,
   "metadata": {},
   "outputs": [],
   "source": [
    "from hashlib import sha256\n",
    "import string\n",
    "import re"
   ]
  },
  {
   "cell_type": "code",
   "execution_count": 31,
   "metadata": {},
   "outputs": [],
   "source": [
    "hashed_passwords = []\n",
    "f = open(\"./passwords/hw3_ex2.txt\", \"r\")\n",
    "f.readline()\n",
    "for i in range(22):\n",
    "    f.readline()\n",
    "for i in range(10):\n",
    "    hashed_passwords.append(f.readline().strip())\n",
    "    \n",
    "characters = string.ascii_lowercase + string.digits\n",
    "\n",
    "# Read the rockyou wordlist\n",
    "password_list = re.findall('\\w+', open('./passwords/rockyou.txt', encoding='latin-1').read())"
   ]
  },
  {
   "cell_type": "code",
   "execution_count": 33,
   "metadata": {},
   "outputs": [],
   "source": [
    "# Get hashes and salts\n",
    "hashed_pw_list = []\n",
    "salt_list = []\n",
    "for p in hashed_passwords:\n",
    "    t = p.split(\", \")\n",
    "    hashed_pw_list.append(t[1])\n",
    "    salt_list.append(t[0])"
   ]
  },
  {
   "cell_type": "code",
   "execution_count": 34,
   "metadata": {},
   "outputs": [],
   "source": [
    "result = []\n",
    "\n",
    "# Try each word in wordlist with the remaining salts\n",
    "def crack(pwd):\n",
    "    for salt in salt_list:\n",
    "        pwd_salt = pwd + salt\n",
    "        hashed = sha256(pwd_salt.encode()).hexdigest()\n",
    "        if hashed in hashed_pw_list:\n",
    "            result.append(pwd)  # Might just add pwd and not pwd with salt\n",
    "            hashed_pw_list.remove(hashed)\n",
    "            salt_list.remove(salt)\n",
    "            print(result)"
   ]
  },
  {
   "cell_type": "code",
   "execution_count": 35,
   "metadata": {
    "scrolled": true
   },
   "outputs": [
    {
     "name": "stdout",
     "output_type": "stream",
     "text": [
      "['rayoct']\n",
      "['rayoct', 'kitty621']\n",
      "['rayoct', 'kitty621', 'xno425']\n",
      "['rayoct', 'kitty621', 'xno425', 'lolipoph']\n",
      "['rayoct', 'kitty621', 'xno425', 'lolipoph', 'jhomitz']\n",
      "['rayoct', 'kitty621', 'xno425', 'lolipoph', 'jhomitz', 'h00d00']\n",
      "['rayoct', 'kitty621', 'xno425', 'lolipoph', 'jhomitz', 'h00d00', 'cristali1']\n",
      "['rayoct', 'kitty621', 'xno425', 'lolipoph', 'jhomitz', 'h00d00', 'cristali1', 'ablescarf']\n",
      "['rayoct', 'kitty621', 'xno425', 'lolipoph', 'jhomitz', 'h00d00', 'cristali1', 'ablescarf', 'ZXCMNB9517']\n",
      "['rayoct', 'kitty621', 'xno425', 'lolipoph', 'jhomitz', 'h00d00', 'cristali1', 'ablescarf', 'ZXCMNB9517', '048498675']\n",
      "['rayoct', 'kitty621', 'xno425', 'lolipoph', 'jhomitz', 'h00d00', 'cristali1', 'ablescarf', 'ZXCMNB9517', '048498675']\n"
     ]
    }
   ],
   "source": [
    "for pwd in password_list:\n",
    "    crack(pwd)\n",
    "    if not hashed_pw_list:\n",
    "        break\n",
    "\n",
    "print(result)"
   ]
  },
  {
   "cell_type": "code",
   "execution_count": 36,
   "metadata": {},
   "outputs": [],
   "source": [
    "f = open(\"ex2c.txt\", \"a\")\n",
    "f.write(\",\".join(result))\n",
    "f.close()"
   ]
  }
 ],
 "metadata": {
  "kernelspec": {
   "display_name": "Python 3",
   "language": "python",
   "name": "python3"
  },
  "language_info": {
   "codemirror_mode": {
    "name": "ipython",
    "version": 3
   },
   "file_extension": ".py",
   "mimetype": "text/x-python",
   "name": "python",
   "nbconvert_exporter": "python",
   "pygments_lexer": "ipython3",
   "version": "3.6.7"
  }
 },
 "nbformat": 4,
 "nbformat_minor": 2
}
