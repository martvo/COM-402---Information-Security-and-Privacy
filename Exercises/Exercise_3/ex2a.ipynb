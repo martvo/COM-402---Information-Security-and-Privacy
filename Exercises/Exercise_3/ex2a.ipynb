{
 "cells": [
  {
   "cell_type": "code",
   "execution_count": 15,
   "metadata": {},
   "outputs": [],
   "source": [
    "from hashlib import sha256\n",
    "import string"
   ]
  },
  {
   "cell_type": "code",
   "execution_count": 18,
   "metadata": {},
   "outputs": [
    {
     "name": "stdout",
     "output_type": "stream",
     "text": [
      "abcdefghijklmnopqrstuvwxyz0123456789\n"
     ]
    }
   ],
   "source": [
    "hashed_passwords = []\n",
    "f = open(\"./passwords/hw3_ex2.txt\", \"r\")\n",
    "f.readline()\n",
    "for i in range(10):\n",
    "    hashed_passwords.append(f.readline().strip())\n",
    "    \n",
    "characters = string.ascii_lowercase + string.digits\n",
    "print(characters)"
   ]
  },
  {
   "cell_type": "code",
   "execution_count": 19,
   "metadata": {},
   "outputs": [
    {
     "name": "stdout",
     "output_type": "stream",
     "text": [
      "['e69c9c8a1344f486f3ec003a61c57c7fe23e757b9e8925d980e1291ff5c181e9', '66c77a1a49f9b343e7437fe320f9ebf075a1ff450a3414bb0e4617cfec2a3609', '98c47480ae682948f13a7b9ea8b4f17d657e18e1c580a7a79c04ea260c4d4967', '31c8893a8886feb45ed54f4316c26c84d024a45f2b0e3034250977395e4ded85', '2d6953e8f49da9ff6d4f6648358dd9fec8ff50456f395af8ca9a617ebe411c57', '34c3f1d79a3567838c3cbad9a633046d46490019d05c0694eef0b489740ba195', '082bc39befd28328b14726058eb1c6ebe8f19bb64c9274f8f61b98ddc4a785fe', '41e93b84861e43dfe123be0f6601d38f028db6cfad3ae9a7debc698d673f8e71', 'e1044f1224830fb7695bcb91805d228f0c0a34d3aa9229a7d5ad6576040f2792', '31d43f64dd57800ce735295c8b013cce86481a7237ce8f79e9953f0b23902fa2']\n"
     ]
    }
   ],
   "source": [
    "print(hashed_passwords)"
   ]
  },
  {
   "cell_type": "code",
   "execution_count": 24,
   "metadata": {},
   "outputs": [],
   "source": [
    "# Bruteforce through every character\n",
    "def decrypt(h_password):\n",
    "    for a in characters:\n",
    "        for b in characters:\n",
    "            for c in characters:\n",
    "                for d in characters:\n",
    "                    for e in characters:\n",
    "                        for f in characters:\n",
    "                            char_4 = sha256((c+d+e+f).encode()).hexdigest()\n",
    "                            if (char_4 == h_password):\n",
    "                                return c+d+e+f\n",
    "                            char_5 = sha256((b+c+d+e+f).encode()).hexdigest()\n",
    "                            if (char_5 == h_password):\n",
    "                                return b+c+d+e+f\n",
    "                            char_6 = sha256((a+b+c+d+e+f).encode()).hexdigest()\n",
    "                            if (char_6 == h_password):\n",
    "                                return a+b+c+d+e+f"
   ]
  },
  {
   "cell_type": "code",
   "execution_count": 25,
   "metadata": {},
   "outputs": [
    {
     "name": "stdout",
     "output_type": "stream",
     "text": [
      "['2gp4j']\n",
      "['2gp4j', '61eb']\n",
      "['2gp4j', '61eb', 'ifcye9']\n",
      "['2gp4j', '61eb', 'ifcye9', 'wnd3']\n",
      "['2gp4j', '61eb', 'ifcye9', 'wnd3', 'lzos4']\n",
      "['2gp4j', '61eb', 'ifcye9', 'wnd3', 'lzos4', 'hfyn']\n",
      "['2gp4j', '61eb', 'ifcye9', 'wnd3', 'lzos4', 'hfyn', 'yxjb']\n",
      "['2gp4j', '61eb', 'ifcye9', 'wnd3', 'lzos4', 'hfyn', 'yxjb', 'mm4pxr']\n",
      "['2gp4j', '61eb', 'ifcye9', 'wnd3', 'lzos4', 'hfyn', 'yxjb', 'mm4pxr', 'qx7o']\n",
      "['2gp4j', '61eb', 'ifcye9', 'wnd3', 'lzos4', 'hfyn', 'yxjb', 'mm4pxr', 'qx7o', 'mmfl87']\n",
      "['2gp4j', '61eb', 'ifcye9', 'wnd3', 'lzos4', 'hfyn', 'yxjb', 'mm4pxr', 'qx7o', 'mmfl87']\n"
     ]
    }
   ],
   "source": [
    "decrypted_passwords = []\n",
    "\n",
    "# Decrypt every password\n",
    "for hashed_password in hashed_passwords:\n",
    "    decrypted_passwords.append(decrypt(hashed_password))\n",
    "    print(decrypted_passwords)\n",
    "\n",
    "print(decrypted_passwords)"
   ]
  },
  {
   "cell_type": "code",
   "execution_count": 28,
   "metadata": {},
   "outputs": [],
   "source": [
    "f = open(\"ex2a.txt\", \"a\")\n",
    "f.write(\",\".join(decrypted_passwords))\n",
    "f.close()"
   ]
  },
  {
   "cell_type": "code",
   "execution_count": null,
   "metadata": {},
   "outputs": [],
   "source": []
  }
 ],
 "metadata": {
  "kernelspec": {
   "display_name": "Python 3",
   "language": "python",
   "name": "python3"
  },
  "language_info": {
   "codemirror_mode": {
    "name": "ipython",
    "version": 3
   },
   "file_extension": ".py",
   "mimetype": "text/x-python",
   "name": "python",
   "nbconvert_exporter": "python",
   "pygments_lexer": "ipython3",
   "version": "3.6.7"
  }
 },
 "nbformat": 4,
 "nbformat_minor": 2
}
