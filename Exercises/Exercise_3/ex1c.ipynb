{
 "cells": [
  {
   "cell_type": "code",
   "execution_count": 34,
   "metadata": {},
   "outputs": [],
   "source": [
    "import pandas as pd\n",
    "import operator"
   ]
  },
  {
   "cell_type": "code",
   "execution_count": 35,
   "metadata": {},
   "outputs": [
    {
     "data": {
      "text/html": [
       "<div>\n",
       "<style scoped>\n",
       "    .dataframe tbody tr th:only-of-type {\n",
       "        vertical-align: middle;\n",
       "    }\n",
       "\n",
       "    .dataframe tbody tr th {\n",
       "        vertical-align: top;\n",
       "    }\n",
       "\n",
       "    .dataframe thead th {\n",
       "        text-align: right;\n",
       "    }\n",
       "</style>\n",
       "<table border=\"1\" class=\"dataframe\">\n",
       "  <thead>\n",
       "    <tr style=\"text-align: right;\">\n",
       "      <th></th>\n",
       "      <th>name</th>\n",
       "      <th>movie</th>\n",
       "      <th>date</th>\n",
       "      <th>rating</th>\n",
       "    </tr>\n",
       "  </thead>\n",
       "  <tbody>\n",
       "    <tr>\n",
       "      <th>0</th>\n",
       "      <td>0be567e3ce47645262aac4b77d6911861cf1dfdfda2fa2...</td>\n",
       "      <td>9531c709a8ffb3ee40218af7ee3bf857d5d867c0436314...</td>\n",
       "      <td>2001-01-01</td>\n",
       "      <td>1</td>\n",
       "    </tr>\n",
       "    <tr>\n",
       "      <th>1</th>\n",
       "      <td>496f408ec7b099c2d269ddb122862f965e138b4ba9f7a6...</td>\n",
       "      <td>8e31cb88686e36651c4e0d786efafa819874f710314d88...</td>\n",
       "      <td>2001-01-01</td>\n",
       "      <td>1</td>\n",
       "    </tr>\n",
       "    <tr>\n",
       "      <th>2</th>\n",
       "      <td>806ed8f42fd3754d270c79c1b0a5b5920fe1ca3f6380fb...</td>\n",
       "      <td>ae551c1d604e8591e4578dbb598a966b6177c9485b5b62...</td>\n",
       "      <td>2001-01-01</td>\n",
       "      <td>4</td>\n",
       "    </tr>\n",
       "    <tr>\n",
       "      <th>3</th>\n",
       "      <td>b22b2115bd41a995b031d6c615673abf26144f82debe48...</td>\n",
       "      <td>9dea21681a8b8e5dbe498adac1c2fbb0af1c149c88fc21...</td>\n",
       "      <td>2001-01-01</td>\n",
       "      <td>3</td>\n",
       "    </tr>\n",
       "    <tr>\n",
       "      <th>4</th>\n",
       "      <td>459a1531a3feefaf99498062931d2b27d5b756082d1689...</td>\n",
       "      <td>c3aa702b04623b78d92f30cdc44f6bea247421e09a8cc2...</td>\n",
       "      <td>2001-01-01</td>\n",
       "      <td>4</td>\n",
       "    </tr>\n",
       "  </tbody>\n",
       "</table>\n",
       "</div>"
      ],
      "text/plain": [
       "                                                name  \\\n",
       "0  0be567e3ce47645262aac4b77d6911861cf1dfdfda2fa2...   \n",
       "1  496f408ec7b099c2d269ddb122862f965e138b4ba9f7a6...   \n",
       "2  806ed8f42fd3754d270c79c1b0a5b5920fe1ca3f6380fb...   \n",
       "3  b22b2115bd41a995b031d6c615673abf26144f82debe48...   \n",
       "4  459a1531a3feefaf99498062931d2b27d5b756082d1689...   \n",
       "\n",
       "                                               movie       date  rating  \n",
       "0  9531c709a8ffb3ee40218af7ee3bf857d5d867c0436314... 2001-01-01       1  \n",
       "1  8e31cb88686e36651c4e0d786efafa819874f710314d88... 2001-01-01       1  \n",
       "2  ae551c1d604e8591e4578dbb598a966b6177c9485b5b62... 2001-01-01       4  \n",
       "3  9dea21681a8b8e5dbe498adac1c2fbb0af1c149c88fc21... 2001-01-01       3  \n",
       "4  c3aa702b04623b78d92f30cdc44f6bea247421e09a8cc2... 2001-01-01       4  "
      ]
     },
     "execution_count": 35,
     "metadata": {},
     "output_type": "execute_result"
    }
   ],
   "source": [
    "columns = [\"name\", \"movie\", \"date\", \"rating\"]\n",
    "netflix = pd.read_csv(\"./database/com402-3.csv\", skipinitialspace=True, quotechar='\"', header=None, names=columns)\n",
    "imdb = pd.read_csv(\"./database/imdb-3.csv\", skipinitialspace=True, quotechar='\"', header=None, names=columns)\n",
    "\n",
    "netflix[\"date\"] = pd.to_datetime(netflix[\"date\"], dayfirst =True)\n",
    "imdb[\"date\"] = pd.to_datetime(imdb[\"date\"], dayfirst =True)\n",
    "\n",
    "netflix.head()"
   ]
  },
  {
   "cell_type": "code",
   "execution_count": 36,
   "metadata": {
    "scrolled": true
   },
   "outputs": [],
   "source": [
    "my_imdb_movies = imdb[imdb[\"name\"] == \"martin.vold@epfl.ch\"]\n",
    "my_dates = my_imdb_movies[\"date\"].values\n",
    "\n",
    "# Finding all hashed rows within 14 days from a rating date in imdb rating\n",
    "possible_hashes = []\n",
    "for date in my_dates:\n",
    "    for i, netflix_row in netflix.iterrows():\n",
    "        diff = (netflix_row[\"date\"] - date).days\n",
    "        if abs(diff) < 14:\n",
    "            possible_hashes.append(netflix_row.tolist())\n",
    "            \n",
    "possible_hashes = pd.DataFrame(possible_hashes, columns=columns)\n",
    "my_hash = possible_hashes.name.value_counts().index[0]"
   ]
  },
  {
   "cell_type": "code",
   "execution_count": 37,
   "metadata": {},
   "outputs": [
    {
     "data": {
      "text/plain": [
       "'2d252020bd08e25a46a7a722896bf2706aae500f20a3b7d71213ccbd8a3816be'"
      ]
     },
     "execution_count": 37,
     "metadata": {},
     "output_type": "execute_result"
    }
   ],
   "source": [
    "my_hash"
   ]
  },
  {
   "cell_type": "code",
   "execution_count": 38,
   "metadata": {
    "scrolled": true
   },
   "outputs": [],
   "source": [
    "my_netflix_movies = netflix[netflix[\"name\"] == my_hash]\n",
    "my_movies = []\n",
    "\n",
    "# Find all movies that corespond to my movie hashes\n",
    "for hashed_movie in my_netflix_movies[\"movie\"].values:\n",
    "    possible_movies_scores = {}\n",
    "    \n",
    "    for hashed_date in netflix[netflix[\"movie\"] == hashed_movie].date:\n",
    "        upper_hashed_date = hashed_date + pd.Timedelta(days=13)\n",
    "        lower_hashed_date = hashed_date - pd.Timedelta(days=13)\n",
    "        possible_imdb_movies_mask = (imdb.date <= upper_hashed_date) & (imdb.date >= lower_hashed_date)\n",
    "        possible_imdb_movies = imdb[possible_imdb_movies_mask]\n",
    "        \n",
    "        for i, possible_movie in possible_imdb_movies.iterrows():\n",
    "            diff = abs((hashed_date - possible_movie[\"date\"]).days)\n",
    "            if possible_movie.movie in possible_movies_scores.keys():\n",
    "                possible_movies_scores[possible_movie.movie] += 14 - diff\n",
    "            else:\n",
    "                possible_movies_scores[possible_movie.movie] = 14 - diff\n",
    "    \n",
    "    # Bet movie with highest count\n",
    "    best_movie = max(possible_movies_scores, key=possible_movies_scores.get)\n",
    "    \n",
    "    my_movies.append(best_movie)"
   ]
  },
  {
   "cell_type": "code",
   "execution_count": 39,
   "metadata": {},
   "outputs": [],
   "source": [
    "f = open(\"ex1c.txt\", \"a\")\n",
    "for movie in my_movies:\n",
    "    f.write(movie+\"\\n\")\n",
    "f.close()"
   ]
  },
  {
   "cell_type": "code",
   "execution_count": null,
   "metadata": {},
   "outputs": [],
   "source": []
  }
 ],
 "metadata": {
  "kernelspec": {
   "display_name": "Python 3",
   "language": "python",
   "name": "python3"
  },
  "language_info": {
   "codemirror_mode": {
    "name": "ipython",
    "version": 3
   },
   "file_extension": ".py",
   "mimetype": "text/x-python",
   "name": "python",
   "nbconvert_exporter": "python",
   "pygments_lexer": "ipython3",
   "version": "3.6.7"
  }
 },
 "nbformat": 4,
 "nbformat_minor": 2
}
